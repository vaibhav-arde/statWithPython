{
  "nbformat": 4,
  "nbformat_minor": 0,
  "metadata": {
    "colab": {
      "provenance": [],
      "authorship_tag": "ABX9TyMz20C2efhzO3E+JS173GR3",
      "include_colab_link": true
    },
    "kernelspec": {
      "name": "python3",
      "display_name": "Python 3"
    },
    "language_info": {
      "name": "python"
    }
  },
  "cells": [
    {
      "cell_type": "markdown",
      "metadata": {
        "id": "view-in-github",
        "colab_type": "text"
      },
      "source": [
        "<a href=\"https://colab.research.google.com/github/vaibhav-arde/statWithPython/blob/main/missingValues.ipynb\" target=\"_parent\"><img src=\"https://colab.research.google.com/assets/colab-badge.svg\" alt=\"Open In Colab\"/></a>"
      ]
    },
    {
      "cell_type": "code",
      "execution_count": 1,
      "metadata": {
        "id": "JQOSFNIB2YcI"
      },
      "outputs": [],
      "source": [
        "#Missing Values"
      ]
    },
    {
      "cell_type": "code",
      "source": [],
      "metadata": {
        "id": "9iiOgc3P2dvo"
      },
      "execution_count": null,
      "outputs": []
    }
  ]
}